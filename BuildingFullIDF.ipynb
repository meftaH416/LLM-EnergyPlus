{
 "cells": [
  {
   "cell_type": "markdown",
   "id": "6267678e",
   "metadata": {},
   "source": [
    "### Importing necessary libraries"
   ]
  },
  {
   "cell_type": "code",
   "execution_count": null,
   "id": "8bf12170",
   "metadata": {},
   "outputs": [],
   "source": [
    "import os\n",
    "import json\n",
    "import pandas as pd\n",
    "import random"
   ]
  },
  {
   "cell_type": "markdown",
   "id": "ae158b66",
   "metadata": {},
   "source": [
    "### Function to extract EnergyPlus objects From IDF files"
   ]
  },
  {
   "cell_type": "code",
   "execution_count": null,
   "id": "d883184d",
   "metadata": {},
   "outputs": [],
   "source": [
    "def extract_all_objects_clean_comments(idf_file_path):\n",
    "    \"\"\"Extract all objects from the IDF file, removing comments but keeping all content.\"\"\"\n",
    "    with open(idf_file_path, 'r', encoding='utf-8') as file:\n",
    "        lines = file.readlines()\n",
    "\n",
    "    current_obj = []\n",
    "    extracted_objects = []\n",
    "\n",
    "    for line in lines:\n",
    "        # Remove comments (everything after '!')\n",
    "        clean_line = line.split('!')[0].rstrip()\n",
    "        \n",
    "        if not clean_line.strip():\n",
    "            continue  # skip empty lines after comment removal\n",
    "\n",
    "        current_obj.append(clean_line)\n",
    "\n",
    "        # If line ends with ';' (object ends), finalize and store it\n",
    "        if clean_line.endswith(';'):\n",
    "            # Join lines with single spaces preserving structure\n",
    "            complete_object = \" \".join(line.strip() for line in current_obj)\n",
    "            extracted_objects.append(complete_object)\n",
    "            current_obj = []\n",
    "\n",
    "    # If any leftover lines not closed with ';' (rare), optionally add them too\n",
    "    if current_obj:\n",
    "        complete_object = \" \".join(line.strip() for line in current_obj)\n",
    "        extracted_objects.append(complete_object)\n",
    "\n",
    "    return extracted_objects"
   ]
  },
  {
   "cell_type": "markdown",
   "id": "cc1b9607",
   "metadata": {},
   "source": [
    "### Various prompt for creating dataset with different queries"
   ]
  },
  {
   "cell_type": "code",
   "execution_count": null,
   "id": "a2059f3a",
   "metadata": {},
   "outputs": [],
   "source": [
    "# Function to generate a user query\n",
    "def generate_combined_query(description):\n",
    "    \"\"\"Returns a user query asking IDF objects.\"\"\"\n",
    "    L = float(description['L'])\n",
    "    W = float(description['W'])\n",
    "    H = float(description['H'])\n",
    "    FA = float(description['FA'])\n",
    "    AR = float(description['AR'])\n",
    "    WWR = float(description['WWR'])\n",
    "    templates = [\n",
    "        f\"\"\"\n",
    "        Give me an EnergyPlus IDF file with the following building properties.\n",
    "        Lighting power is 11.84029, people object is 0.05113, infiltration is 0.00030.\n",
    "        The building has a Length of {description['L']:.2f} m, Width of {description['W']:.2f} m, Height of {description['H']:.2f} m,\n",
    "        Floor Area of {description['FA']:.2f}, Aspect Ratio of {description['AR']:.2f} and WWR of {description['WWR']:.2f}\n",
    "        \"\"\"\n",
    "        ]\n",
    "    return random.choice(templates)"
   ]
  },
  {
   "cell_type": "markdown",
   "id": "d3de81ae",
   "metadata": {},
   "source": [
    "### Choose the file path\n",
    "\n",
    "All the data related to design matrix based on which simulations are done are in Excel (csv) file. They are data about L, W, CH, FA, WWR, AR, V and EUI\n",
    "Idf file from where EnergyPlus objects will be extracted from are in idf_rectangle folder."
   ]
  },
  {
   "cell_type": "code",
   "execution_count": null,
   "id": "ff11b067",
   "metadata": {},
   "outputs": [],
   "source": [
    "# Define file paths\n",
    "excel_file_path = r\"C:\\Users\\Desktop\\LLM\\idf_rectangle\\data.csv\"\n",
    "idf_folder_path = r'C:\\Users\\Desktop\\LLM\\idf_rectangle'\n",
    "output_json_path = 'BuildingGeomFull3.json'"
   ]
  },
  {
   "cell_type": "markdown",
   "id": "b97388e9",
   "metadata": {},
   "source": [
    "### Creating dictionary \n",
    "Dictionary of ata containing key= ID or design matrix, value = set of {L, W, CH, WWR, AR, FA, V, EUI}"
   ]
  },
  {
   "cell_type": "code",
   "execution_count": null,
   "id": "f50c14b8",
   "metadata": {},
   "outputs": [],
   "source": [
    "# Load building descriptions\n",
    "if not os.path.exists(excel_file_path):\n",
    "    raise FileNotFoundError(f\"CSV file not found: {excel_file_path}\")\n",
    "\n",
    "df = pd.read_csv(excel_file_path)\n",
    "# Convert all necessary columns to float explicitly\n",
    "float_columns = ['L', 'W', 'H', 'WWR', 'AR', 'EUI', 'FA']\n",
    "df[float_columns] = df[float_columns].astype(float)\n",
    "\n",
    "building_data = df.set_index('ID').to_dict(orient='index')\n",
    "\n",
    "building_data"
   ]
  },
  {
   "cell_type": "markdown",
   "id": "44f68f54",
   "metadata": {},
   "source": [
    "### Creating the dataset with Query and Answer"
   ]
  },
  {
   "cell_type": "markdown",
   "id": "3c8323c8",
   "metadata": {},
   "source": [
    "###"
   ]
  },
  {
   "cell_type": "code",
   "execution_count": null,
   "id": "f9f20f37",
   "metadata": {},
   "outputs": [],
   "source": [
    "import random\n",
    "\n",
    "# Set the random seed\n",
    "random.seed(123)\n",
    "\n",
    "# Initialize JSON pairs list\n",
    "json_pairs = []\n",
    "\n",
    "# Process each IDF file\n",
    "for idf_file in os.listdir(idf_folder_path):\n",
    "    if idf_file.endswith('.idf') and idf_file.startswith(\"in\"):\n",
    "        idf_file_path = os.path.join(idf_folder_path, idf_file)\n",
    "\n",
    "        try:\n",
    "            building_id = int(idf_file.replace(\"in\", \"\").replace(\".idf\", \"\"))\n",
    "            description = building_data.get(building_id)\n",
    "            if not description:\n",
    "                print(f\"Warning: No description found for {idf_file}\")\n",
    "                continue\n",
    "        except ValueError:\n",
    "            print(f\"Skipping {idf_file} - Invalid filename format.\")\n",
    "            continue\n",
    "\n",
    "        # Extract EnergyPlus objects\n",
    "        all_objects = extract_all_objects_clean_comments(idf_file_path)\n",
    "        \n",
    "        print(f\"Processing {idf_file}: TotalObjects({len(all_objects)})\")\n",
    "\n",
    "        if all_objects:\n",
    "            json_pairs.append({\n",
    "                \"user\": generate_combined_query(description),\n",
    "                \"assistant\": \"\\n\".join(all_objects)\n",
    "            })\n",
    "        else:\n",
    "            print(f\"Skipping {idf_file} - No IDF objects found.\")"
   ]
  },
  {
   "cell_type": "code",
   "execution_count": null,
   "id": "279a5ecd",
   "metadata": {},
   "outputs": [],
   "source": [
    "# Save dataset to JSON\n",
    "with open(output_json_path, 'w', encoding='utf-8') as json_file:\n",
    "    json.dump(json_pairs, json_file, indent=2)\n",
    "\n",
    "print(f\"Fine-tuning dataset saved to {output_json_path}\")"
   ]
  },
  {
   "cell_type": "markdown",
   "id": "cdd880c9",
   "metadata": {},
   "source": [
    "### Cleaning the json file"
   ]
  },
  {
   "cell_type": "code",
   "execution_count": null,
   "id": "d9bb55d5",
   "metadata": {},
   "outputs": [],
   "source": [
    "## Making 0.2 or two significant digitsimport json\n",
    "import re\n",
    "file_path = r\"C:\\Users\\Desktop\\LLM\\BuildingGeomFull3.json\"\n",
    "\n",
    "def round_numbers_in_text(text, precision=5):\n",
    "    # Match float or int numbers in string, including negatives\n",
    "    number_pattern = re.compile(r'-?\\d+\\.\\d+')\n",
    "\n",
    "    def round_match(match):\n",
    "        num = float(match.group())\n",
    "        return f\"{num:.{precision}f}\"\n",
    "\n",
    "    return number_pattern.sub(round_match, text)\n",
    "\n",
    "def round_json_numbers(json_data, precision=2):\n",
    "    for item in json_data:\n",
    "        for key in item:\n",
    "            if isinstance(item[key], str):\n",
    "                item[key] = round_numbers_in_text(item[key], precision)\n",
    "    return json_data"
   ]
  },
  {
   "cell_type": "code",
   "execution_count": null,
   "id": "7c54cd88",
   "metadata": {},
   "outputs": [],
   "source": [
    "# === Usage ===\n",
    "# Load your JSON file\n",
    "with open(file_path, \"r\") as f:\n",
    "    data = json.load(f)\n",
    "\n",
    "# Round numbers in the JSON\n",
    "rounded_data = round_json_numbers(data, precision=5)"
   ]
  },
  {
   "cell_type": "code",
   "execution_count": null,
   "id": "c88f554f",
   "metadata": {},
   "outputs": [],
   "source": [
    "# Save the modified JSON\n",
    "with open(file_path, \"w\") as f:\n",
    "    json.dump(rounded_data, f, indent=2)"
   ]
  }
 ],
 "metadata": {
  "kernelspec": {
   "display_name": "Python 3",
   "language": "python",
   "name": "python3"
  },
  "language_info": {
   "codemirror_mode": {
    "name": "ipython",
    "version": 3
   },
   "file_extension": ".py",
   "mimetype": "text/x-python",
   "name": "python",
   "nbconvert_exporter": "python",
   "pygments_lexer": "ipython3",
   "version": "3.13.1"
  }
 },
 "nbformat": 4,
 "nbformat_minor": 5
}
