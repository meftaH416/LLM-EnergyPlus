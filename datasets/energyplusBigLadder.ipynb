{
  "nbformat": 4,
  "nbformat_minor": 0,
  "metadata": {
    "colab": {
      "provenance": []
    },
    "kernelspec": {
      "name": "python3",
      "display_name": "Python 3"
    },
    "language_info": {
      "name": "python"
    }
  },
  "cells": [
    {
      "cell_type": "code",
      "source": [
        "# !pip install requests beautifulsoup4 pathvalidate"
      ],
      "metadata": {
        "id": "6_cqNAGh6SEl"
      },
      "execution_count": null,
      "outputs": []
    },
    {
      "cell_type": "code",
      "source": [
        "import requests\n",
        "from bs4 import BeautifulSoup\n",
        "from pathvalidate import sanitize_filename\n",
        "from itertools import islice\n",
        "import os\n",
        "import re\n"
      ],
      "metadata": {
        "id": "qOCIFplD6Zzj"
      },
      "execution_count": null,
      "outputs": []
    },
    {
      "cell_type": "code",
      "source": [
        "# URL of the EnergyPlus Input-Output Reference index page\n",
        "INDEX_URL = \"https://bigladdersoftware.com/epx/docs/23-1/input-output-reference/index.html\"\n",
        "\n",
        "# Send request to get the webpage\n",
        "response = requests.get(INDEX_URL)\n",
        "soup = BeautifulSoup(response.text, \"html5lib\")\n",
        "\n",
        "# Find all links inside <li><a>...</a></li>\n",
        "links = soup.select(\"li a\")  # Assuming each section is inside <li><a>\n",
        "\n",
        "# Dictionary to store section names and their corresponding URLs\n",
        "section_links = {}\n",
        "\n",
        "# Extract links\n",
        "for link in links[20:]:\n",
        "    section_name = link.text.strip()\n",
        "    href = link.get(\"href\")\n",
        "\n",
        "    # Remove unwanted characters\n",
        "    section_name = section_name.replace('/', '').replace(':', '')\n",
        "\n",
        "    # Check if 'Group' is in the section name\n",
        "    if 'Group' in section_name:\n",
        "        # Convert relative link to absolute URL\n",
        "        full_url = INDEX_URL.rsplit(\"/\", 1)[0] + \"/\" + href if href else \"No URL\"\n",
        "        # Add the section name and URL to the dictionary\n",
        "        section_links[section_name] = full_url\n",
        "\n",
        "# Now `section_links` contains the names and URLs of 'Group' sections\n",
        "# for name, url in section_links.items():\n",
        "    # print(f\"{name}: {url}\")\n",
        "\n",
        "print(len(section_links))\n"
      ],
      "metadata": {
        "id": "ibuUoao7CsKP",
        "colab": {
          "base_uri": "https://localhost:8080/"
        },
        "outputId": "ac59a9e5-c074-4197-9938-1f4ec4069055"
      },
      "execution_count": null,
      "outputs": [
        {
          "output_type": "stream",
          "name": "stdout",
          "text": [
            "63\n"
          ]
        }
      ]
    },
    {
      "cell_type": "code",
      "source": [
        "\n",
        "# Target directory to save the text files\n",
        "target_directory = '/content/drive/MyDrive/PYTHON_PRACTICE/Data_preprocessing/sample_data/'\n",
        "\n",
        "os.makedirs(target_directory, exist_ok=True)\n",
        "\n",
        "def sanitize_filename(filename):\n",
        "    # Check if 'Group –' is in the filename before replacing\n",
        "    if 'Group –' in filename:\n",
        "        filename = filename.replace('Group –', '').strip()\n",
        "\n",
        "    # Check if ' – ' is in the filename before replacing\n",
        "    if ' – ' in filename:\n",
        "        filename = filename.replace(' – ', '').strip()\n",
        "\n",
        "    # Check if non-ASCII characters are in the filename before removing\n",
        "    if re.search(r'[^\\x00-\\x7F]+', filename):\n",
        "        filename = re.sub(r'[^\\x00-\\x7F]+', '', filename).strip()\n",
        "\n",
        "    # Check if ':' is in the filename before replacing\n",
        "    if ':' in filename:\n",
        "        filename = filename.replace(':', '').strip()\n",
        "\n",
        "    return filename.strip()\n",
        "\n",
        "\n",
        "# Assuming 'section_links' is a dictionary containing section names and URLs\n",
        "for section_name, url in islice(section_links.items(), 63):\n",
        "    # Send a GET request to the URL\n",
        "    response = requests.get(url)\n",
        "    if response.status_code == 200:\n",
        "        # Force UTF-8 encoding (if the response was misinterpreted)\n",
        "        response.encoding = 'utf-8'\n",
        "\n",
        "        # Decode the content correctly in case of encoding mismatch\n",
        "        content = response.content.decode('utf-8', errors='replace')\n",
        "\n",
        "        # Parse the HTML content using BeautifulSoup\n",
        "        soup = BeautifulSoup(content, \"html5lib\")\n",
        "\n",
        "        # Find the div with id 'main'\n",
        "        main_content = soup.find('div', id='main')\n",
        "\n",
        "        if main_content:\n",
        "            # Initialize a list to hold the text content\n",
        "            text_content = []\n",
        "\n",
        "            # Remove all <table> elements\n",
        "            for table in main_content.find_all('table'):\n",
        "                table.decompose()\n",
        "\n",
        "            # Find and remove the footer with class 'footer-container' inside 'main'\n",
        "            footer = main_content.find('div', id='footer-container')\n",
        "            if footer:\n",
        "                footer.decompose()\n",
        "\n",
        "            # Find and remove all MathJax components\n",
        "            for mjx in soup.find_all(class_=re.compile('MJXc-')):\n",
        "                mjx.decompose()\n",
        "\n",
        "            # Extract text from specific tags\n",
        "            for tag in main_content.find_all(['p', 'h1', 'h2', 'h3', 'h4', 'h5', 'h6', 'ul', 'ol', 'pre']):\n",
        "                text_content.append(tag.get_text(strip=True))\n",
        "\n",
        "            # Join all text content into a single string\n",
        "            text = '\\n'.join(text_content).strip()\n",
        "\n",
        "            # Remove unwanted placeholders like '[LINK]'\n",
        "            text = text.replace('[LINK]', '').strip()\n",
        "\n",
        "            # Manually replace any known problematic characters\n",
        "            text = text.replace(\"–\", \"-\").strip()  # For en dash to simple dash\n",
        "            text = text.replace('’', \"'\").strip()  # For curly apostrophe\n",
        "            text = text.replace('—', \"-\").strip()  # For em dash to simple dash\n",
        "\n",
        "            # Fix incorrect characters like 'â€“' and replace with en dash\n",
        "            text = text.replace('â€“', '–').strip()\n",
        "\n",
        "            # Sanitize the section name to create a valid filename\n",
        "            filename = f\"{sanitize_filename(section_name)}.txt\"\n",
        "\n",
        "            # Define the full path to save the file\n",
        "            file_path = os.path.join(target_directory, filename)\n",
        "\n",
        "            # Save the text to a .txt file\n",
        "            with open(file_path, 'w', encoding='utf-8') as file:\n",
        "                file.write(text)\n",
        "            print(f\"Saved content for '{section_name}' to '{file_path}'\")\n",
        "        else:\n",
        "            print(f\"Main content not found for '{section_name}'\")\n",
        "    else:\n",
        "        print(f\"Failed to retrieve '{url}' (Status code: {response.status_code})\")\n"
      ],
      "metadata": {
        "colab": {
          "base_uri": "https://localhost:8080/"
        },
        "id": "XIMm4mB31jP2",
        "outputId": "a528e8ba-73b8-4e1c-80f7-192c800be2c8"
      },
      "execution_count": null,
      "outputs": [
        {
          "output_type": "stream",
          "name": "stdout",
          "text": [
            "Saved content for 'Group â Simulation Parameters' to '/content/drive/MyDrive/PYTHON_PRACTICE/Data_preprocessing/sample_data/Group  Simulation Parameters.txt'\n",
            "Saved content for 'Group â Compliance Objects' to '/content/drive/MyDrive/PYTHON_PRACTICE/Data_preprocessing/sample_data/Group  Compliance Objects.txt'\n",
            "Saved content for 'Group â Location â Climate â Weather File Access' to '/content/drive/MyDrive/PYTHON_PRACTICE/Data_preprocessing/sample_data/Group  Location  Climate  Weather File Access.txt'\n",
            "Saved content for 'Climate Group Outputs' to '/content/drive/MyDrive/PYTHON_PRACTICE/Data_preprocessing/sample_data/Climate Group Outputs.txt'\n",
            "Saved content for 'Group â Schedules' to '/content/drive/MyDrive/PYTHON_PRACTICE/Data_preprocessing/sample_data/Group  Schedules.txt'\n",
            "Saved content for 'Group â Surface Construction Elements' to '/content/drive/MyDrive/PYTHON_PRACTICE/Data_preprocessing/sample_data/Group  Surface Construction Elements.txt'\n",
            "Saved content for 'WindowMaterialGlazingGroupThermochromic' to '/content/drive/MyDrive/PYTHON_PRACTICE/Data_preprocessing/sample_data/WindowMaterialGlazingGroupThermochromic.txt'\n",
            "Saved content for 'Group â Thermal Zone DescriptionGeometry' to '/content/drive/MyDrive/PYTHON_PRACTICE/Data_preprocessing/sample_data/Group  Thermal Zone DescriptionGeometry.txt'\n",
            "Saved content for 'ZoneGroup' to '/content/drive/MyDrive/PYTHON_PRACTICE/Data_preprocessing/sample_data/ZoneGroup.txt'\n",
            "Saved content for 'Group â Advanced Surface Concepts' to '/content/drive/MyDrive/PYTHON_PRACTICE/Data_preprocessing/sample_data/Group  Advanced Surface Concepts.txt'\n",
            "Saved content for 'Group â Detailed Ground Heat Transfer' to '/content/drive/MyDrive/PYTHON_PRACTICE/Data_preprocessing/sample_data/Group  Detailed Ground Heat Transfer.txt'\n",
            "Saved content for 'Group â Room Air Models' to '/content/drive/MyDrive/PYTHON_PRACTICE/Data_preprocessing/sample_data/Group  Room Air Models.txt'\n",
            "Saved content for 'Group â Internal Gains (People, Lights, Other internal zone equipment)' to '/content/drive/MyDrive/PYTHON_PRACTICE/Data_preprocessing/sample_data/Group  Internal Gains (People, Lights, Other internal zone equipment).txt'\n",
            "Saved content for 'Group â Daylighting' to '/content/drive/MyDrive/PYTHON_PRACTICE/Data_preprocessing/sample_data/Group  Daylighting.txt'\n",
            "Saved content for 'Group â Exterior Energy Use Equipment' to '/content/drive/MyDrive/PYTHON_PRACTICE/Data_preprocessing/sample_data/Group  Exterior Energy Use Equipment.txt'\n",
            "Saved content for 'Group â Airflow' to '/content/drive/MyDrive/PYTHON_PRACTICE/Data_preprocessing/sample_data/Group  Airflow.txt'\n",
            "Saved content for 'Group â Design Objects' to '/content/drive/MyDrive/PYTHON_PRACTICE/Data_preprocessing/sample_data/Group  Design Objects.txt'\n",
            "Saved content for 'Group â Node-Branch Management' to '/content/drive/MyDrive/PYTHON_PRACTICE/Data_preprocessing/sample_data/Group  Node-Branch Management.txt'\n",
            "Saved content for 'Group â Plant-Condenser Loops' to '/content/drive/MyDrive/PYTHON_PRACTICE/Data_preprocessing/sample_data/Group  Plant-Condenser Loops.txt'\n",
            "Saved content for 'Group â Plant-Condenser Control' to '/content/drive/MyDrive/PYTHON_PRACTICE/Data_preprocessing/sample_data/Group  Plant-Condenser Control.txt'\n",
            "Saved content for 'Group â Plant Equipment' to '/content/drive/MyDrive/PYTHON_PRACTICE/Data_preprocessing/sample_data/Group  Plant Equipment.txt'\n",
            "Saved content for 'Group â Water Heaters and Thermal Storage' to '/content/drive/MyDrive/PYTHON_PRACTICE/Data_preprocessing/sample_data/Group  Water Heaters and Thermal Storage.txt'\n",
            "Saved content for 'Group â Condenser Equipment' to '/content/drive/MyDrive/PYTHON_PRACTICE/Data_preprocessing/sample_data/Group  Condenser Equipment.txt'\n",
            "Saved content for 'Group â Air Distribution' to '/content/drive/MyDrive/PYTHON_PRACTICE/Data_preprocessing/sample_data/Group  Air Distribution.txt'\n",
            "Saved content for 'Group â Airflow Network' to '/content/drive/MyDrive/PYTHON_PRACTICE/Data_preprocessing/sample_data/Group  Airflow Network.txt'\n",
            "Saved content for 'Group - Zone Equipment' to '/content/drive/MyDrive/PYTHON_PRACTICE/Data_preprocessing/sample_data/Group - Zone Equipment.txt'\n",
            "Saved content for 'Group â Zone HVAC Air Loop Terminal Units' to '/content/drive/MyDrive/PYTHON_PRACTICE/Data_preprocessing/sample_data/Group  Zone HVAC Air Loop Terminal Units.txt'\n",
            "Saved content for 'Group â Zone Forced Air Units' to '/content/drive/MyDrive/PYTHON_PRACTICE/Data_preprocessing/sample_data/Group  Zone Forced Air Units.txt'\n",
            "Saved content for 'Group â Unitary Equipment' to '/content/drive/MyDrive/PYTHON_PRACTICE/Data_preprocessing/sample_data/Group  Unitary Equipment.txt'\n",
            "Saved content for 'Group â Variable Refrigerant Flow Equipment' to '/content/drive/MyDrive/PYTHON_PRACTICE/Data_preprocessing/sample_data/Group  Variable Refrigerant Flow Equipment.txt'\n",
            "Saved content for 'Group â Radiative  Convective Units' to '/content/drive/MyDrive/PYTHON_PRACTICE/Data_preprocessing/sample_data/Group  Radiative  Convective Units.txt'\n",
            "Saved content for 'ZoneHVACLowTemperatureRadiantSurfaceGroup' to '/content/drive/MyDrive/PYTHON_PRACTICE/Data_preprocessing/sample_data/ZoneHVACLowTemperatureRadiantSurfaceGroup.txt'\n",
            "Saved content for 'ZoneHVACVentilatedSlabSlabGroup' to '/content/drive/MyDrive/PYTHON_PRACTICE/Data_preprocessing/sample_data/ZoneHVACVentilatedSlabSlabGroup.txt'\n",
            "Saved content for 'Group â Refrigeration' to '/content/drive/MyDrive/PYTHON_PRACTICE/Data_preprocessing/sample_data/Group  Refrigeration.txt'\n",
            "Saved content for 'Group - Zone Controls - Thermostats and Humidistats' to '/content/drive/MyDrive/PYTHON_PRACTICE/Data_preprocessing/sample_data/Group - Zone Controls - Thermostats and Humidistats.txt'\n",
            "Saved content for 'Group â Air Path' to '/content/drive/MyDrive/PYTHON_PRACTICE/Data_preprocessing/sample_data/Group  Air Path.txt'\n",
            "Saved content for 'Group â Non-Zone Equipment' to '/content/drive/MyDrive/PYTHON_PRACTICE/Data_preprocessing/sample_data/Group  Non-Zone Equipment.txt'\n",
            "Saved content for 'Group Solar Collectors' to '/content/drive/MyDrive/PYTHON_PRACTICE/Data_preprocessing/sample_data/Group Solar Collectors.txt'\n",
            "Saved content for 'Group Pumps' to '/content/drive/MyDrive/PYTHON_PRACTICE/Data_preprocessing/sample_data/Group Pumps.txt'\n",
            "Saved content for 'Group Heating and Cooling Coils' to '/content/drive/MyDrive/PYTHON_PRACTICE/Data_preprocessing/sample_data/Group Heating and Cooling Coils.txt'\n",
            "Saved content for 'Group â Fans' to '/content/drive/MyDrive/PYTHON_PRACTICE/Data_preprocessing/sample_data/Group  Fans.txt'\n",
            "Saved content for 'Group â Humidifiers and Dehumidifiers' to '/content/drive/MyDrive/PYTHON_PRACTICE/Data_preprocessing/sample_data/Group  Humidifiers and Dehumidifiers.txt'\n",
            "Saved content for 'Group â Energy Management System (EMS)' to '/content/drive/MyDrive/PYTHON_PRACTICE/Data_preprocessing/sample_data/Group  Energy Management System (EMS).txt'\n",
            "Saved content for 'Group â Python Plugins  Python EMS' to '/content/drive/MyDrive/PYTHON_PRACTICE/Data_preprocessing/sample_data/Group  Python Plugins  Python EMS.txt'\n",
            "Saved content for 'Group ExternalInterface' to '/content/drive/MyDrive/PYTHON_PRACTICE/Data_preprocessing/sample_data/Group ExternalInterface.txt'\n",
            "Saved content for 'Group User Defined HVAC and Plant Component Models' to '/content/drive/MyDrive/PYTHON_PRACTICE/Data_preprocessing/sample_data/Group User Defined HVAC and Plant Component Models.txt'\n",
            "Saved content for 'Group System Availability Managers' to '/content/drive/MyDrive/PYTHON_PRACTICE/Data_preprocessing/sample_data/Group System Availability Managers.txt'\n",
            "Saved content for 'Group Setpoint Managers' to '/content/drive/MyDrive/PYTHON_PRACTICE/Data_preprocessing/sample_data/Group Setpoint Managers.txt'\n",
            "Saved content for 'Group Controllers' to '/content/drive/MyDrive/PYTHON_PRACTICE/Data_preprocessing/sample_data/Group Controllers.txt'\n",
            "Saved content for 'Group Evaporative Coolers' to '/content/drive/MyDrive/PYTHON_PRACTICE/Data_preprocessing/sample_data/Group Evaporative Coolers.txt'\n",
            "Saved content for 'Group Heat Recovery' to '/content/drive/MyDrive/PYTHON_PRACTICE/Data_preprocessing/sample_data/Group Heat Recovery.txt'\n",
            "Saved content for 'Group Demand Limiting Controls' to '/content/drive/MyDrive/PYTHON_PRACTICE/Data_preprocessing/sample_data/Group Demand Limiting Controls.txt'\n",
            "Saved content for 'Group â Electric Load Center-Generator Specifications' to '/content/drive/MyDrive/PYTHON_PRACTICE/Data_preprocessing/sample_data/Group  Electric Load Center-Generator Specifications.txt'\n",
            "Saved content for 'Group Water Systems' to '/content/drive/MyDrive/PYTHON_PRACTICE/Data_preprocessing/sample_data/Group Water Systems.txt'\n",
            "Saved content for 'Group - Operational Faults' to '/content/drive/MyDrive/PYTHON_PRACTICE/Data_preprocessing/sample_data/Group - Operational Faults.txt'\n",
            "Saved content for 'Group - Performance Curves' to '/content/drive/MyDrive/PYTHON_PRACTICE/Data_preprocessing/sample_data/Group - Performance Curves.txt'\n",
            "Saved content for 'Group Performance Tables' to '/content/drive/MyDrive/PYTHON_PRACTICE/Data_preprocessing/sample_data/Group Performance Tables.txt'\n",
            "Saved content for 'Group Fluid Properties' to '/content/drive/MyDrive/PYTHON_PRACTICE/Data_preprocessing/sample_data/Group Fluid Properties.txt'\n",
            "Saved content for 'Group â Hybrid Model' to '/content/drive/MyDrive/PYTHON_PRACTICE/Data_preprocessing/sample_data/Group  Hybrid Model.txt'\n",
            "Saved content for 'Group â HVAC Templates' to '/content/drive/MyDrive/PYTHON_PRACTICE/Data_preprocessing/sample_data/Group  HVAC Templates.txt'\n",
            "Saved content for 'Group â Economics' to '/content/drive/MyDrive/PYTHON_PRACTICE/Data_preprocessing/sample_data/Group  Economics.txt'\n",
            "Saved content for 'Group â Parametrics' to '/content/drive/MyDrive/PYTHON_PRACTICE/Data_preprocessing/sample_data/Group  Parametrics.txt'\n",
            "Saved content for 'Group â Reports' to '/content/drive/MyDrive/PYTHON_PRACTICE/Data_preprocessing/sample_data/Group  Reports.txt'\n"
          ]
        }
      ]
    },
    {
      "cell_type": "code",
      "source": [],
      "metadata": {
        "id": "9FnWUdh9C702"
      },
      "execution_count": null,
      "outputs": []
    }
  ]
}