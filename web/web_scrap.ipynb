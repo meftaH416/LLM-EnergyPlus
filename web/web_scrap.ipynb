{
 "cells": [
  {
   "cell_type": "code",
   "execution_count": null,
   "metadata": {},
   "outputs": [],
   "source": [
    "import requests\n",
    "from bs4 import BeautifulSoup\n",
    "import pandas as pd\n",
    "import time"
   ]
  },
  {
   "cell_type": "code",
   "execution_count": null,
   "metadata": {},
   "outputs": [],
   "source": [
    "BASE_URL = 'https://unmethours.com'\n",
    "PAGE_URL = 'https://unmethours.com/questions/?sort=newest&page={}'"
   ]
  },
  {
   "cell_type": "code",
   "execution_count": null,
   "metadata": {},
   "outputs": [],
   "source": [
    "# Get all the question url\n",
    "def get_question_links(page_num):\n",
    "    url = PAGE_URL.format(page_num)\n",
    "    r = requests.get(url)\n",
    "    soup = BeautifulSoup(r.content, 'html.parser')\n",
    "\n",
    "    question_div = soup.find('div', id='question-list')\n",
    "    if not question_div:\n",
    "        return []  # No questions found, stop crawling\n",
    "\n",
    "    questions = []\n",
    "    for h2 in question_div.find_all('h2'):\n",
    "        a_tag = h2.find('a')\n",
    "        if a_tag and a_tag.get('href'):\n",
    "            href = BASE_URL + a_tag.get('href')\n",
    "            title = a_tag.get_text(strip=True)\n",
    "            questions.append((title, href))\n",
    "    return questions"
   ]
  },
  {
   "cell_type": "code",
   "execution_count": null,
   "metadata": {},
   "outputs": [],
   "source": [
    "# Get all the answers of each question from href\n",
    "def extract_qna(url):\n",
    "    r = requests.get(url)\n",
    "    soup = BeautifulSoup(r.content, 'html.parser')\n",
    "    all_editables = soup.find_all('div', class_='js-editable-content')\n",
    "\n",
    "    question = all_editables[0].get_text(strip=True) if all_editables else ''\n",
    "    answers = [div.get_text(strip=True) for div in all_editables[1:]]\n",
    "    return question, \"\\n---\\n\".join(answers)\n"
   ]
  },
  {
   "cell_type": "code",
   "execution_count": null,
   "metadata": {},
   "outputs": [],
   "source": [
    "# Loop through all pages\n",
    "page = 1\n",
    "data = []\n",
    "\n",
    "while True:\n",
    "    print(f\"Scraping page {page}...\")\n",
    "    question_links = get_question_links(page)\n",
    "    if not question_links:\n",
    "        print(\"No more questions found. Stopping.\")\n",
    "        break\n",
    "\n",
    "    for title, url in question_links:\n",
    "        try:\n",
    "            question, answer = extract_qna(url)\n",
    "            data.append({\n",
    "                'question_url': url,\n",
    "                'question': question,\n",
    "                'answer': answer or 'No answer'\n",
    "            })\n",
    "            time.sleep(1)  # Be respectful\n",
    "        except Exception as e:\n",
    "            print(f\"Failed to scrape {url}: {e}\")\n",
    "\n",
    "    page += 1"
   ]
  },
  {
   "cell_type": "code",
   "execution_count": null,
   "metadata": {},
   "outputs": [],
   "source": [
    "# Create Pandas DataFrame\n",
    "df = pd.DataFrame(data)\n",
    "df.to_csv('unmethours_qna_all_pages.csv', index=False)\n",
    "print(\"Saved to CSV.\")"
   ]
  },
  {
   "cell_type": "code",
   "execution_count": null,
   "metadata": {},
   "outputs": [],
   "source": []
  }
 ],
 "metadata": {
  "kernelspec": {
   "display_name": "venv",
   "language": "python",
   "name": "python3"
  },
  "language_info": {
   "codemirror_mode": {
    "name": "ipython",
    "version": 3
   },
   "file_extension": ".py",
   "mimetype": "text/x-python",
   "name": "python",
   "nbconvert_exporter": "python",
   "pygments_lexer": "ipython3",
   "version": "3.12.4"
  }
 },
 "nbformat": 4,
 "nbformat_minor": 2
}
