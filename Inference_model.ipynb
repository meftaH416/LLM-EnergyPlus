{
 "cells": [
  {
   "cell_type": "code",
   "execution_count": null,
   "id": "d6915d09-d351-4c05-8092-bbde17fc522d",
   "metadata": {
    "scrolled": true
   },
   "outputs": [],
   "source": [
    "from unsloth import FastLanguageModel\n",
    "from peft import PeftModel\n",
    "\n",
    "max_seq_length = 12000\n",
    "load_in_4bit = True\n",
    "\n",
    "# Load base model\n",
    "model, tokenizer = FastLanguageModel.from_pretrained(\n",
    "    model_name=\"unsloth/Phi-4\",\n",
    "    max_seq_length=max_seq_length,\n",
    "    load_in_4bit=load_in_4bit,\n",
    ")\n",
    "\n",
    "# Load QLoRa PEFT adapter on top\n",
    "model = PeftModel.from_pretrained(model, \"meftah416/EnergyPhi\")\n",
    "\n",
    "# Enable fast inference\n",
    "FastLanguageModel.for_inference(model)"
   ]
  },
  {
   "cell_type": "code",
   "execution_count": null,
   "id": "34328b3f-942c-4ab8-9594-0abe8ccb841e",
   "metadata": {},
   "outputs": [],
   "source": [
    "!nvidia-smi"
   ]
  },
  {
   "cell_type": "code",
   "execution_count": null,
   "id": "b8215cb0-d13a-47fc-a0bd-b0f691cda7d2",
   "metadata": {},
   "outputs": [],
   "source": [
    "prompt = \"\"\"\n",
    "Generate an EnergyPlus IDF file that is 40 meters long, 30 meters wide, and 3 meters high. \n",
    "The window-to-wall ratio is 0.4. The occupancy rate is  0.091 m2/people, the lighting level is 9.25 W/m2, and the infiltration is 0.0004.\n",
    "\"\"\"\n",
    "messages = [\n",
    "    {\"role\": \"user\", \n",
    "     \"content\": prompt},\n",
    "]\n",
    "inputs = tokenizer.apply_chat_template(\n",
    "    messages,\n",
    "    tokenize = True,\n",
    "    add_generation_prompt = True, # Must add for generation\n",
    "    return_tensors = \"pt\",\n",
    ").to(\"cuda\")\n",
    "\n",
    "from transformers import TextStreamer\n",
    "text_streamer = TextStreamer(tokenizer, skip_prompt = True)\n",
    "_ = model.generate(\n",
    "    input_ids = inputs, streamer = text_streamer, max_new_tokens = 11000,\n",
    "    use_cache = True, temperature = 1.5, min_p = 0.1\n",
    ")"
   ]
  }
 ],
 "metadata": {
  "kernelspec": {
   "display_name": "Python(unsloth)",
   "language": "python",
   "name": "env_unsloth"
  },
  "language_info": {
   "codemirror_mode": {
    "name": "ipython",
    "version": 3
   },
   "file_extension": ".py",
   "mimetype": "text/x-python",
   "name": "python",
   "nbconvert_exporter": "python",
   "pygments_lexer": "ipython3",
   "version": "3.12.8"
  }
 },
 "nbformat": 4,
 "nbformat_minor": 5
}
